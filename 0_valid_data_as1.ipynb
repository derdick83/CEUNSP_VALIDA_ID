{
 "cells": [
  {
   "cell_type": "code",
   "execution_count": null,
   "metadata": {},
   "outputs": [],
   "source": [
    "import numpy as np\n",
    "import pandas as pd\n",
    "from difflib import SequenceMatcher\n",
    "from __future__ import print_function\n",
    "import time as t\n",
    "from googleapiclient import discovery\n",
    "from httplib2 import Http\n",
    "from oauth2client import file, client, tools\n",
    "\n",
    "import gspread\n",
    "from oauth2client.service_account import ServiceAccountCredentials"
   ]
  },
  {
   "cell_type": "code",
   "execution_count": null,
   "metadata": {},
   "outputs": [],
   "source": [
    "def similar(a, b):\n",
    "    return SequenceMatcher(None, a, b).ratio()"
   ]
  },
  {
   "cell_type": "code",
   "execution_count": null,
   "metadata": {},
   "outputs": [],
   "source": [
    "dataceunsp = pd.read_csv('data_ceunsp_F2.csv',sep=',')"
   ]
  },
  {
   "cell_type": "code",
   "execution_count": null,
   "metadata": {},
   "outputs": [],
   "source": [
    "SHEETS_FILE_ID = '1g36yCFTmeA2Q5soV48_01Agebm7I-vFxgsWEeenRKf8'\n",
    "\n",
    "# authorization constants \n",
    "CLIENT_ID_FILE = 'credentials.json'\n",
    "TOKEN_STORE_FILE = 'token.json'\n",
    "SCOPES = (  # iterable or space-delimited string\n",
    "    'https://www.googleapis.com/auth/drive',\n",
    "    'https://www.googleapis.com/auth/documents',\n",
    "    'https://www.googleapis.com/auth/spreadsheets.readonly',\n",
    ")\n",
    "# application constants\n",
    "SOURCES = ('text', 'sheets')\n",
    "SOURCE = 'sheets' # Choose one of the data SOURCES\n",
    "\n",
    "def get_http_client():\n",
    "    \"\"\"Uses project credentials in CLIENT_ID_FILE along with requested OAuth2\n",
    "        scopes for authorization, and caches API tokens in TOKEN_STORE_FILE.\n",
    "    \"\"\"\n",
    "    store = file.Storage(TOKEN_STORE_FILE)\n",
    "    creds = store.get()\n",
    "    if not creds or creds.invalid:\n",
    "        flow = client.flow_from_clientsecrets(CLIENT_ID_FILE, SCOPES)\n",
    "        creds = tools.run_flow(flow, store)\n",
    "    return creds.authorize(Http())\n",
    "\n",
    "# service endpoints to Google APIs\n",
    "HTTP = get_http_client()\n",
    "DRIVE = discovery.build('drive', 'v3', http=HTTP)\n",
    "DOCS = discovery.build('docs', 'v1', http=HTTP)\n",
    "SHEETS = discovery.build('sheets', 'v4', http=HTTP)\n",
    "\n",
    "def get_data(source):\n",
    "    \"\"\"Gets mail merge data from chosen data source.\n",
    "    \"\"\"\n",
    "    if source not in {'sheets', 'text'}:\n",
    "        raise ValueError('ERROR: unsupported source %r; choose from %r' % (\n",
    "            source, SOURCES))\n",
    "    return SAFE_DISPATCH[source]()\n",
    "\n",
    "def set_data(source,NOMES,service=SHEETS):\n",
    "    \"\"\"Set data from chosen data source.\n",
    "    \"\"\"\n",
    "    if source not in {'sheets', 'text'}:\n",
    "        raise ValueError('ERROR: unsupported source %r; choose from %r' % (\n",
    "            source, SOURCES))\n",
    "    RANGE = 'G2:G'+str(len(NOMES)+1)\n",
    "    values = NOMES\n",
    "    body = {\n",
    "        'values': values\n",
    "    }\n",
    "    request = service.spreadsheets().values().update(spreadsheetId=SHEETS_FILE_ID, range=RANGE, valueInputOption='RAW', body= body)\n",
    "    response = request.execute()    \n",
    "    return SAFE_DISPATCH[source]()\n",
    "\n",
    "def _get_sheets_data(service=SHEETS):\n",
    "    \"\"\"(private) Returns data from Google Sheets source. It gets all rows of\n",
    "        'Sheet1' (the default Sheet in a new spreadsheet), but drops the first\n",
    "        (header) row. Use any desired data range (in standard A1 notation).\n",
    "    \"\"\"\n",
    "    return service.spreadsheets().values().get(spreadsheetId=SHEETS_FILE_ID,\n",
    "            range='Sheet1').execute().get('values')[1:] # skip header row\n",
    "\n",
    "SAFE_DISPATCH = {k: globals().get('_get_%s_data' % k) for k in SOURCES}"
   ]
  },
  {
   "cell_type": "code",
   "execution_count": null,
   "metadata": {},
   "outputs": [],
   "source": [
    "data = get_data(SOURCE) # get data from data source\n",
    "NOME = []\n",
    "RGM = []\n",
    "CURSO = []\n",
    "for i, row in enumerate(data):\n",
    "    NOME.append(str(data[i][3])) \n",
    "    RGM.append((data[i][4]))\n",
    "    CURSO.append(str(data[i][5]))    "
   ]
  },
  {
   "cell_type": "code",
   "execution_count": null,
   "metadata": {},
   "outputs": [],
   "source": [
    "matriz = [NOME, RGM, CURSO]\n",
    "matriz = np.array(matriz) \n",
    "df_forms = pd.DataFrame(matriz.T, columns='NOME RGM CURSO'.split())\n",
    "df_forms['RGM']=df_forms['RGM'].astype(int)  "
   ]
  },
  {
   "cell_type": "code",
   "execution_count": null,
   "metadata": {},
   "outputs": [],
   "source": [
    "dataceunsp = dataceunsp[['RGM','NOME']]"
   ]
  },
  {
   "cell_type": "code",
   "execution_count": null,
   "metadata": {},
   "outputs": [],
   "source": [
    "aux1= pd.merge(df_forms,dataceunsp,how = 'left', on = ['RGM'],suffixes=('_aluno','_ceunsp'))"
   ]
  },
  {
   "cell_type": "code",
   "execution_count": null,
   "metadata": {},
   "outputs": [],
   "source": [
    "aux2 = aux1[aux1['NOME_ceunsp'].isnull()].drop(columns='NOME_ceunsp').rename(columns={'NOME_aluno':'NOME'})\n",
    "aux3 = pd.merge(aux2,dataceunsp,how = 'left', on = ['NOME'],suffixes=('_aluno','_ceunsp'))"
   ]
  },
  {
   "cell_type": "code",
   "execution_count": null,
   "metadata": {},
   "outputs": [],
   "source": [
    "result = {}\n",
    "NOMES = []\n",
    "for nome_as1 in df_forms['NOME']:\n",
    "    CURSO = df_forms[df_forms['NOME'] == nome_as1]['CURSO'].to_string()\n",
    "    if 'ALUNO DE DP/ADAP' in CURSO:\n",
    "        NOMES.append([nome_as1])      \n",
    "    else:     \n",
    "        for nome_ceunsp in dataceunsp['NOME']:\n",
    "            nome_as1 = nome_as1.strip()\n",
    "            result[nome_ceunsp]=similar(nome_as1,str(nome_ceunsp))\n",
    "        sort_result = sorted(result.items(),key = lambda x: x[1],reverse = True)\n",
    "        NOMES.append([sort_result[0][0]])\n",
    "        if sort_result[0][1] < .5:\n",
    "            sort_result[0] = ''\n",
    "#        print (nome_as1,sort_result[0])    \n",
    "        \n",
    "set_data(SOURCE,NOMES)   "
   ]
  }
 ],
 "metadata": {
  "kernelspec": {
   "display_name": "Python 3",
   "language": "python",
   "name": "python3"
  },
  "language_info": {
   "codemirror_mode": {
    "name": "ipython",
    "version": 3
   },
   "file_extension": ".py",
   "mimetype": "text/x-python",
   "name": "python",
   "nbconvert_exporter": "python",
   "pygments_lexer": "ipython3",
   "version": "3.8.2"
  }
 },
 "nbformat": 4,
 "nbformat_minor": 4
}
